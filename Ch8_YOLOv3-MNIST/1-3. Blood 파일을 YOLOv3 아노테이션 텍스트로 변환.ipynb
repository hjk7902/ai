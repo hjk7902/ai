{
 "cells": [
  {
   "cell_type": "markdown",
   "id": "b794ee50",
   "metadata": {},
   "source": [
    "# Blood 데이터셋\n",
    "* https://www.kaggle.com/datasets/adhoppin/blood-cell-detection-datatset"
   ]
  },
  {
   "cell_type": "markdown",
   "id": "37722672",
   "metadata": {},
   "source": [
    "## 디렉토리 내의 파일 목록 출력"
   ]
  },
  {
   "cell_type": "code",
   "execution_count": 1,
   "id": "d5718455",
   "metadata": {},
   "outputs": [
    {
     "name": "stdout",
     "output_type": "stream",
     "text": [
      "C:\\Users\\JK\\Downloads\\archive\\test\\labels\\BloodImage_00038_jpg.rf.ffa23e4b5b55b523367f332af726eae8.txt\n",
      "C:\\Users\\JK\\Downloads\\archive\\test\\labels\\BloodImage_00044_jpg.rf.e7760375eba4bc20c5746367e2311e18.txt\n",
      "C:\\Users\\JK\\Downloads\\archive\\test\\labels\\BloodImage_00062_jpg.rf.1be1ca0ecdf783798fc10346baaa203e.txt\n",
      "C:\\Users\\JK\\Downloads\\archive\\test\\labels\\BloodImage_00090_jpg.rf.cdbf8f6ed3b93fa902a0bc991132cb40.txt\n",
      "C:\\Users\\JK\\Downloads\\archive\\test\\labels\\BloodImage_00099_jpg.rf.e3c42cd68359527494a53843479dff5c.txt\n",
      "C:\\Users\\JK\\Downloads\\archive\\test\\labels\\BloodImage_00112_jpg.rf.978cec39235980055c2ad7ff8b6f1912.txt\n",
      "C:\\Users\\JK\\Downloads\\archive\\test\\labels\\BloodImage_00113_jpg.rf.a17463f1ddc2e7729f935f8a74bc86a4.txt\n",
      "C:\\Users\\JK\\Downloads\\archive\\test\\labels\\BloodImage_00120_jpg.rf.6725d54bf5615683448eb1de4c7577ee.txt\n",
      "C:\\Users\\JK\\Downloads\\archive\\test\\labels\\BloodImage_00133_jpg.rf.39ee4e4a097a7b40defa56aea6533caf.txt\n",
      "C:\\Users\\JK\\Downloads\\archive\\test\\labels\\BloodImage_00134_jpg.rf.0d9da503b62e0034a2819a39cce7e7d9.txt\n",
      "C:\\Users\\JK\\Downloads\\archive\\test\\labels\\BloodImage_00154_jpg.rf.e5b45569e9cbede1ed36f82f14566c29.txt\n",
      "C:\\Users\\JK\\Downloads\\archive\\test\\labels\\BloodImage_00160_jpg.rf.894e8c8c7179ec9958a4d6c7b6b45616.txt\n",
      "C:\\Users\\JK\\Downloads\\archive\\test\\labels\\BloodImage_00190_jpg.rf.3e0bf272a5f8ea902775e4cbc56c538c.txt\n",
      "C:\\Users\\JK\\Downloads\\archive\\test\\labels\\BloodImage_00191_jpg.rf.313648dd345edbdd005886613a01fe5d.txt\n",
      "C:\\Users\\JK\\Downloads\\archive\\test\\labels\\BloodImage_00204_jpg.rf.04ba9998769a12d374e6c4b284e6a4a2.txt\n",
      "C:\\Users\\JK\\Downloads\\archive\\test\\labels\\BloodImage_00227_jpg.rf.d1790b0cdc042312d1e0af86a5c13519.txt\n",
      "C:\\Users\\JK\\Downloads\\archive\\test\\labels\\BloodImage_00235_jpg.rf.283fff79a1188b82f5a544d381909c2d.txt\n",
      "C:\\Users\\JK\\Downloads\\archive\\test\\labels\\BloodImage_00241_jpg.rf.757020b43fe3414a0f66770f54da283f.txt\n",
      "C:\\Users\\JK\\Downloads\\archive\\test\\labels\\BloodImage_00254_jpg.rf.e95bc889425924cc7a35a7b0cea4d470.txt\n",
      "C:\\Users\\JK\\Downloads\\archive\\test\\labels\\BloodImage_00265_jpg.rf.7d102d5f38caddb90a465912fb7bdc5c.txt\n",
      "C:\\Users\\JK\\Downloads\\archive\\test\\labels\\BloodImage_00266_jpg.rf.2521623f1047a9502b2705a626ad6655.txt\n",
      "C:\\Users\\JK\\Downloads\\archive\\test\\labels\\BloodImage_00275_jpg.rf.585f5abcf10f926c74ac2e2340bbdf44.txt\n",
      "C:\\Users\\JK\\Downloads\\archive\\test\\labels\\BloodImage_00278_jpg.rf.cfe491c301184766df6aa73fa48a7f33.txt\n",
      "C:\\Users\\JK\\Downloads\\archive\\test\\labels\\BloodImage_00284_jpg.rf.63402cee4454cb6d7655b83cacc29817.txt\n",
      "C:\\Users\\JK\\Downloads\\archive\\test\\labels\\BloodImage_00289_jpg.rf.72f51d668e5ebc31700b1a10e8f7dec8.txt\n",
      "C:\\Users\\JK\\Downloads\\archive\\test\\labels\\BloodImage_00301_jpg.rf.885ee9fbea0573ba35b9561a5d1d0437.txt\n",
      "C:\\Users\\JK\\Downloads\\archive\\test\\labels\\BloodImage_00302_jpg.rf.911302bb5caaf9467e101afeece651e1.txt\n",
      "C:\\Users\\JK\\Downloads\\archive\\test\\labels\\BloodImage_00325_jpg.rf.c8ab9fc71ad718a95901a00cc18c27e6.txt\n",
      "C:\\Users\\JK\\Downloads\\archive\\test\\labels\\BloodImage_00334_jpg.rf.8b2c2a9c5a39e78eb74aa26c82967069.txt\n",
      "C:\\Users\\JK\\Downloads\\archive\\test\\labels\\BloodImage_00336_jpg.rf.8d3e710e8696c10bcbb101dc8a553ca0.txt\n",
      "C:\\Users\\JK\\Downloads\\archive\\test\\labels\\BloodImage_00337_jpg.rf.b6cb228440b9158cafec01a0351e3aad.txt\n",
      "C:\\Users\\JK\\Downloads\\archive\\test\\labels\\BloodImage_00350_jpg.rf.e2c472c90de4ce51fe4f21b093db6ece.txt\n",
      "C:\\Users\\JK\\Downloads\\archive\\test\\labels\\BloodImage_00359_jpg.rf.03331bc3903822adbe982fe9e7cd061b.txt\n",
      "C:\\Users\\JK\\Downloads\\archive\\test\\labels\\BloodImage_00369_jpg.rf.c3818de705d661536ed7e4ce49040020.txt\n",
      "C:\\Users\\JK\\Downloads\\archive\\test\\labels\\BloodImage_00385_jpg.rf.865551dd16b189945cbba0fe51baa151.txt\n",
      "C:\\Users\\JK\\Downloads\\archive\\test\\labels\\BloodImage_00386_jpg.rf.c708422b2d9c642f200a853e70012850.txt\n"
     ]
    }
   ],
   "source": [
    "import os\n",
    "\n",
    "\n",
    "# 디렉토리 경로 설정\n",
    "directory = r\"C:\\Users\\JK\\Downloads\\archive\\test\\labels\"  # 실제 디렉토리 경로로 바꿔주세요\n",
    "\n",
    "# 디렉토리 내의 파일 목록 얻기\n",
    "file_list = os.listdir(directory)\n",
    "\n",
    "# 파일 목록 출력\n",
    "for file in file_list:\n",
    "    print(os.path.join(directory, file))"
   ]
  },
  {
   "cell_type": "markdown",
   "id": "472a428c",
   "metadata": {},
   "source": [
    "## Blood 데이터셋의 파일의 아노테이션 형식 변환\n",
    "* 변환 후 형식 : maksssksksss0.png 79,105,109,142,1 185,100,226,144,0 325,90,360,141,1"
   ]
  },
  {
   "cell_type": "code",
   "execution_count": 22,
   "id": "4e6b8ec3-0f60-4c3f-8b4a-c6e7a9a0f706",
   "metadata": {
    "scrolled": true
   },
   "outputs": [
    {
     "name": "stdout",
     "output_type": "stream",
     "text": [
      "(416, 416, 3)\n",
      "data\\blood\\test\\BloodImage_00386_jpg.rf.c708422b2d9c642f200a853e70012850.jpg 1,264,69,366,1 128,62,193,141,1 187,304,256,407,1 303,203,384,308,1 288,338,353,415,1 288,27,351,121,1 346,17,415,126,1 292,130,374,215,1 208,1,290,85,1 210,80,292,165,1 214,169,296,254,1 74,266,156,351,1 100,351,179,415,1 0,88,80,184,1 99,137,244,333,2\n"
     ]
    }
   ],
   "source": [
    "import cv2\n",
    "\n",
    "input_filename = r\"C:\\Users\\JK\\Downloads\\archive\\test\\labels\\BloodImage_00386_jpg.rf.c708422b2d9c642f200a853e70012850.txt\"\n",
    "img_filename = r\"data\\blood\\test\\BloodImage_00386_jpg.rf.c708422b2d9c642f200a853e70012850.jpg\"\n",
    "img = cv2.imread(img_filename)\n",
    "print(img.shape)     \n",
    "\n",
    "height, width, channel = img.shape\n",
    "annot_line = img_filename\n",
    "with open(input_filename, 'r') as infile:\n",
    "    for line in infile:\n",
    "        parts = line.strip().split()\n",
    "        class_id = int(parts[0])\n",
    "        cx = float(parts[1]) * width\n",
    "        cy = float(parts[2]) * height\n",
    "        w = float(parts[3]) * width\n",
    "        h = float(parts[4]) * height\n",
    "        x1 = int(cx-w/2)\n",
    "        y1 = int(cy-h/2)\n",
    "        x2 = int(cx+w/2)\n",
    "        y2 = int(cy+h/2)\n",
    "        annot_line = annot_line + f\" {x1},{y1},{x2},{y2},{class_id}\"\n",
    "        cv2.rectangle(img, (x1,y1), (x2,y2), (0,0,255), 1)\n",
    "        cv2.putText(img, str(class_id), (x1,y1+20), cv2.FONT_HERSHEY_PLAIN, 2, (0,0,0))\n",
    "print(annot_line)\n",
    "cv2.imshow(\"test\", img)\n",
    "cv2.waitKey()\n",
    "cv2.destroyAllWindows()"
   ]
  },
  {
   "cell_type": "code",
   "execution_count": 24,
   "id": "07bba220-4a18-4c05-9c16-79d0327cbeba",
   "metadata": {},
   "outputs": [
    {
     "data": {
      "text/plain": [
       "'data\\\\blood\\\\test\\\\BloodImage_00386_jpg.rf.c708422b2d9c642f200a853e70012850.jpg 1,264,69,366,1 128,62,193,141,1 187,304,256,407,1 303,203,384,308,1 288,338,353,415,1 288,27,351,121,1 346,17,415,126,1 292,130,374,215,1 208,1,290,85,1 210,80,292,165,1 214,169,296,254,1 74,266,156,351,1 100,351,179,415,1 0,88,80,184,1 99,137,244,333,2'"
      ]
     },
     "execution_count": 24,
     "metadata": {},
     "output_type": "execute_result"
    }
   ],
   "source": [
    "import cv2\n",
    "\n",
    "def blood_annot2txt(input_filename, img_filename):\n",
    "    img = cv2.imread(img_filename)    \n",
    "    height, width, channel = img.shape\n",
    "    annot_line = img_filename\n",
    "    with open(input_filename, 'r') as infile:\n",
    "        for line in infile:\n",
    "            parts = line.strip().split()\n",
    "            class_id = int(parts[0])\n",
    "            cx = float(parts[1]) * width\n",
    "            cy = float(parts[2]) * height\n",
    "            w = float(parts[3]) * width\n",
    "            h = float(parts[4]) * height\n",
    "            x1 = int(cx-w/2)\n",
    "            y1 = int(cy-h/2)\n",
    "            x2 = int(cx+w/2)\n",
    "            y2 = int(cy+h/2)\n",
    "            annot_line = annot_line + f\" {x1},{y1},{x2},{y2},{class_id}\"\n",
    "    # print(annot_line)\n",
    "    return annot_line\n",
    "    \n",
    "input_filename = r\"C:\\Users\\user\\Downloads\\archive\\test\\labels\\BloodImage_00386_jpg.rf.c708422b2d9c642f200a853e70012850.txt\"\n",
    "img_filename = r\"data\\blood\\test\\BloodImage_00386_jpg.rf.c708422b2d9c642f200a853e70012850.jpg\"\n",
    "blood_annot2txt(input_filename, img_filename)"
   ]
  },
  {
   "cell_type": "markdown",
   "id": "bc52e139",
   "metadata": {},
   "source": [
    "## 내려받은 파일 일괄 처리"
   ]
  },
  {
   "cell_type": "code",
   "execution_count": 28,
   "id": "02972a6b",
   "metadata": {},
   "outputs": [],
   "source": [
    "import os\n",
    "\n",
    "# 실제 디렉토리 경로로 바꿔주세요\n",
    "# annot_directory = r\"C:\\Users\\user\\Downloads\\archive\\test\\labels\"  \n",
    "# img_directory = r\"data\\blood\\test\"\n",
    "annot_directory = r\"C:\\Users\\user\\Downloads\\archive\\train\\labels\"  \n",
    "img_directory = r\"data\\blood\\train\"\n",
    "# 디렉토리 내의 파일 목록 얻기\n",
    "annot_file_list = os.listdir(annot_directory)\n",
    "img_file_list = os.listdir(img_directory)\n",
    "os.makedirs(\"data/blood\", exist_ok=True)\n",
    "# 아노테이션 데이터 변환 후 저장\n",
    "# for i, file in enumerate(annot_file_list):\n",
    "#         print(blood_annot2txt(os.path.join(annot_directory, file), os.path.join(img_directory, img_file_list[i])), sep='')\n",
    "with open(\"data/blood/train.txt\", \"w\") as f:\n",
    "    for i, file in enumerate(annot_file_list):\n",
    "        print(blood_annot2txt(os.path.join(annot_directory, file), os.path.join(img_directory, img_file_list[i])), sep='', file=f)"
   ]
  },
  {
   "cell_type": "code",
   "execution_count": null,
   "id": "51fb5b77",
   "metadata": {},
   "outputs": [],
   "source": []
  }
 ],
 "metadata": {
  "kernelspec": {
   "display_name": "Python 3 (ipykernel)",
   "language": "python",
   "name": "python3"
  },
  "language_info": {
   "codemirror_mode": {
    "name": "ipython",
    "version": 3
   },
   "file_extension": ".py",
   "mimetype": "text/x-python",
   "name": "python",
   "nbconvert_exporter": "python",
   "pygments_lexer": "ipython3",
   "version": "3.9.13"
  },
  "toc": {
   "base_numbering": 1,
   "nav_menu": {},
   "number_sections": true,
   "sideBar": true,
   "skip_h1_title": false,
   "title_cell": "Table of Contents",
   "title_sidebar": "Contents",
   "toc_cell": false,
   "toc_position": {},
   "toc_section_display": true,
   "toc_window_display": false
  }
 },
 "nbformat": 4,
 "nbformat_minor": 5
}
