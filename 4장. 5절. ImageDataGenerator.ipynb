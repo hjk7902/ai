{
 "cells": [
  {
   "cell_type": "code",
   "execution_count": 1,
   "id": "96051340",
   "metadata": {
    "scrolled": true
   },
   "outputs": [
    {
     "name": "stdout",
     "output_type": "stream",
     "text": [
      "[name: \"/device:CPU:0\"\n",
      "device_type: \"CPU\"\n",
      "memory_limit: 268435456\n",
      "locality {\n",
      "}\n",
      "incarnation: 17756248206299873567\n",
      "xla_global_id: -1\n",
      ", name: \"/device:GPU:0\"\n",
      "device_type: \"GPU\"\n",
      "memory_limit: 22692233216\n",
      "locality {\n",
      "  bus_id: 1\n",
      "  links {\n",
      "  }\n",
      "}\n",
      "incarnation: 16317231569479682687\n",
      "physical_device_desc: \"device: 0, name: NVIDIA GeForce RTX 3090 Ti, pci bus id: 0000:01:00.0, compute capability: 8.6\"\n",
      "xla_global_id: 416903419\n",
      "]\n"
     ]
    }
   ],
   "source": [
    "from tensorflow.python.client import device_lib\n",
    "print(device_lib.list_local_devices())"
   ]
  },
  {
   "cell_type": "code",
   "execution_count": 3,
   "id": "e2572fc6",
   "metadata": {},
   "outputs": [
    {
     "data": {
      "text/plain": [
       "[PhysicalDevice(name='/physical_device:GPU:0', device_type='GPU')]"
      ]
     },
     "execution_count": 3,
     "metadata": {},
     "output_type": "execute_result"
    }
   ],
   "source": [
    "import tensorflow as tf\n",
    "tf.config.list_physical_devices(\"GPU\")"
   ]
  },
  {
   "cell_type": "code",
   "execution_count": 2,
   "id": "49748507-5ac2-4e80-bbdc-3eb9d4ae66d1",
   "metadata": {},
   "outputs": [
    {
     "name": "stdout",
     "output_type": "stream",
     "text": [
      "Model: \"sequential\"\n",
      "_________________________________________________________________\n",
      " Layer (type)                Output Shape              Param #   \n",
      "=================================================================\n",
      " resnet50 (Functional)       (None, 7, 7, 2048)        23587712  \n",
      "                                                                 \n",
      " flatten (Flatten)           (None, 100352)            0         \n",
      "                                                                 \n",
      " dense (Dense)               (None, 1024)              102761472 \n",
      "                                                                 \n",
      " dense_1 (Dense)             (None, 3)                 3075      \n",
      "                                                                 \n",
      "=================================================================\n",
      "Total params: 126,352,259\n",
      "Trainable params: 126,299,139\n",
      "Non-trainable params: 53,120\n",
      "_________________________________________________________________\n"
     ]
    }
   ],
   "source": [
    "from tensorflow.keras.applications import ResNet50\n",
    "from tensorflow.keras.models import Sequential\n",
    "from tensorflow.keras.layers import Dense, Flatten\n",
    "\n",
    "resnet_model = ResNet50(input_shape=(224,224,3), include_top=False)\n",
    "resnet_model.trainable = True\n",
    "\n",
    "model = Sequential()\n",
    "model.add(resnet_model)\n",
    "model.add(Flatten())\n",
    "model.add(Dense(1024, activation='relu'))\n",
    "model.add(Dense(3, activation='softmax'))\n",
    "model.summary()"
   ]
  },
  {
   "cell_type": "code",
   "execution_count": 4,
   "id": "88e0a178-b313-4a6b-85db-f1606e9e1be7",
   "metadata": {},
   "outputs": [],
   "source": [
    "model.compile(loss='sparse_categorical_crossentropy', optimizer='adam',\n",
    "              metrics=['accuracy'])"
   ]
  },
  {
   "cell_type": "code",
   "execution_count": 5,
   "id": "0b682d18-9614-45d1-9595-c49917e7620e",
   "metadata": {},
   "outputs": [],
   "source": [
    "from tensorflow.keras.preprocessing.image import ImageDataGenerator"
   ]
  },
  {
   "cell_type": "code",
   "execution_count": 6,
   "id": "66ffc0a5-1c04-40f7-92ae-f075ffa9b357",
   "metadata": {},
   "outputs": [
    {
     "name": "stdout",
     "output_type": "stream",
     "text": [
      "Found 1394 images belonging to 3 classes.\n"
     ]
    }
   ],
   "source": [
    "train_gen = ImageDataGenerator(rotation_range=20, \n",
    "                               width_shift_range=0.2, height_shift_range=0.2,\n",
    "                               horizontal_flip=True)\n",
    "train_data = train_gen.flow_from_directory('./glaucoma/train', target_size=(224,224),\n",
    "                                           batch_size=32, class_mode='sparse')"
   ]
  },
  {
   "cell_type": "code",
   "execution_count": 7,
   "id": "b1d388d6-493b-462e-a692-7751569604e4",
   "metadata": {},
   "outputs": [
    {
     "name": "stdout",
     "output_type": "stream",
     "text": [
      "Found 150 images belonging to 3 classes.\n"
     ]
    }
   ],
   "source": [
    "test_gen = ImageDataGenerator()\n",
    "test_data = test_gen.flow_from_directory('./glaucoma/test', target_size=(224,224), \n",
    "                                         batch_size=32, class_mode='sparse')"
   ]
  },
  {
   "cell_type": "code",
   "execution_count": 8,
   "id": "8e6d4838-c53c-4b76-a45e-07e26b14122a",
   "metadata": {},
   "outputs": [
    {
     "name": "stdout",
     "output_type": "stream",
     "text": [
      "Epoch 1/20\n",
      "44/44 [==============================] - 20s 258ms/step - loss: 8.1276 - accuracy: 0.6585 - val_loss: 33.5835 - val_accuracy: 0.4133\n",
      "Epoch 2/20\n",
      "44/44 [==============================] - 11s 241ms/step - loss: 0.6448 - accuracy: 0.7346 - val_loss: 2.6306 - val_accuracy: 0.4333\n",
      "Epoch 3/20\n",
      "44/44 [==============================] - 10s 236ms/step - loss: 0.7245 - accuracy: 0.7181 - val_loss: 45.8079 - val_accuracy: 0.5267\n",
      "Epoch 4/20\n",
      "44/44 [==============================] - 10s 235ms/step - loss: 1.1068 - accuracy: 0.7195 - val_loss: 1.1091 - val_accuracy: 0.5733\n",
      "Epoch 5/20\n",
      "44/44 [==============================] - 10s 234ms/step - loss: 0.8635 - accuracy: 0.7037 - val_loss: 85.9133 - val_accuracy: 0.6200\n",
      "Epoch 6/20\n",
      "44/44 [==============================] - 10s 234ms/step - loss: 0.6168 - accuracy: 0.7245 - val_loss: 7.1434 - val_accuracy: 0.6200\n",
      "Epoch 7/20\n",
      "44/44 [==============================] - 10s 235ms/step - loss: 0.5838 - accuracy: 0.7432 - val_loss: 0.7523 - val_accuracy: 0.6533\n",
      "Epoch 8/20\n",
      "44/44 [==============================] - 10s 235ms/step - loss: 0.5784 - accuracy: 0.7461 - val_loss: 0.7978 - val_accuracy: 0.6667\n",
      "Epoch 9/20\n",
      "44/44 [==============================] - 11s 239ms/step - loss: 0.5661 - accuracy: 0.7425 - val_loss: 1.1331 - val_accuracy: 0.6933\n",
      "Epoch 10/20\n",
      "44/44 [==============================] - 11s 237ms/step - loss: 0.5471 - accuracy: 0.7582 - val_loss: 0.6689 - val_accuracy: 0.6933\n",
      "Epoch 11/20\n",
      "44/44 [==============================] - 11s 243ms/step - loss: 0.5129 - accuracy: 0.7798 - val_loss: 0.6159 - val_accuracy: 0.6800\n",
      "Epoch 12/20\n",
      "44/44 [==============================] - 11s 240ms/step - loss: 0.5315 - accuracy: 0.7726 - val_loss: 0.6815 - val_accuracy: 0.6933\n",
      "Epoch 13/20\n",
      "44/44 [==============================] - 11s 237ms/step - loss: 0.5050 - accuracy: 0.7740 - val_loss: 0.8795 - val_accuracy: 0.7000\n",
      "Epoch 14/20\n",
      "44/44 [==============================] - 11s 238ms/step - loss: 0.4866 - accuracy: 0.7941 - val_loss: 0.6060 - val_accuracy: 0.7267\n",
      "Epoch 15/20\n",
      "44/44 [==============================] - 11s 246ms/step - loss: 0.4731 - accuracy: 0.7970 - val_loss: 0.7296 - val_accuracy: 0.6733\n",
      "Epoch 16/20\n",
      "44/44 [==============================] - 11s 246ms/step - loss: 0.4659 - accuracy: 0.8063 - val_loss: 0.5700 - val_accuracy: 0.7200\n",
      "Epoch 17/20\n",
      "44/44 [==============================] - 10s 236ms/step - loss: 0.4888 - accuracy: 0.7869 - val_loss: 0.6338 - val_accuracy: 0.7200\n",
      "Epoch 18/20\n",
      "44/44 [==============================] - 10s 236ms/step - loss: 0.4718 - accuracy: 0.7905 - val_loss: 0.5531 - val_accuracy: 0.7533\n",
      "Epoch 19/20\n",
      "44/44 [==============================] - 11s 245ms/step - loss: 0.4789 - accuracy: 0.8020 - val_loss: 0.9120 - val_accuracy: 0.7200\n",
      "Epoch 20/20\n",
      "44/44 [==============================] - 11s 246ms/step - loss: 0.4509 - accuracy: 0.8077 - val_loss: 0.7775 - val_accuracy: 0.6800\n"
     ]
    },
    {
     "data": {
      "text/plain": [
       "<keras.callbacks.History at 0x1938476d2b0>"
      ]
     },
     "execution_count": 8,
     "metadata": {},
     "output_type": "execute_result"
    }
   ],
   "source": [
    "model.fit(train_data, validation_data=test_data, epochs=20)"
   ]
  },
  {
   "cell_type": "code",
   "execution_count": 9,
   "id": "01bd680b-f2c9-4043-a911-e3b24ec04b70",
   "metadata": {},
   "outputs": [],
   "source": [
    "model.save('glaucoma_model.keras')"
   ]
  },
  {
   "cell_type": "code",
   "execution_count": 10,
   "id": "21427c3b-645a-4de3-b753-0287e8a79140",
   "metadata": {},
   "outputs": [
    {
     "name": "stdout",
     "output_type": "stream",
     "text": [
      "Model: \"sequential\"\n",
      "_________________________________________________________________\n",
      " Layer (type)                Output Shape              Param #   \n",
      "=================================================================\n",
      " resnet50 (Functional)       (None, 7, 7, 2048)        23587712  \n",
      "                                                                 \n",
      " flatten (Flatten)           (None, 100352)            0         \n",
      "                                                                 \n",
      " dense (Dense)               (None, 1024)              102761472 \n",
      "                                                                 \n",
      " dense_1 (Dense)             (None, 3)                 3075      \n",
      "                                                                 \n",
      "=================================================================\n",
      "Total params: 126,352,259\n",
      "Trainable params: 126,299,139\n",
      "Non-trainable params: 53,120\n",
      "_________________________________________________________________\n"
     ]
    }
   ],
   "source": [
    "from tensorflow.keras.models import load_model\n",
    "model2 = load_model('glaucoma_model.keras')\n",
    "model2.summary()"
   ]
  },
  {
   "cell_type": "code",
   "execution_count": 11,
   "id": "1527a95e-43e5-448b-89b4-eed13c1a92f1",
   "metadata": {},
   "outputs": [],
   "source": [
    "from tensorflow.keras.preprocessing import image\n",
    "img = image.load_img('./glaucoma/test/advanced_glaucoma/1.png', target_size=(224,224))\n",
    "x = image.img_to_array(img).reshape(-1, 224, 224, 3)"
   ]
  },
  {
   "cell_type": "code",
   "execution_count": 12,
   "id": "a0239671-5f3b-480e-ac7a-5893cf6d2579",
   "metadata": {},
   "outputs": [
    {
     "name": "stdout",
     "output_type": "stream",
     "text": [
      "1/1 [==============================] - 1s 713ms/step\n",
      "[[9.9769753e-01 2.3021083e-03 3.2998983e-07]]\n"
     ]
    }
   ],
   "source": [
    "pred = model2.predict(x)\n",
    "print(pred)"
   ]
  },
  {
   "cell_type": "code",
   "execution_count": 13,
   "id": "ca035d74-5ed1-4973-a43f-a627d09e1079",
   "metadata": {},
   "outputs": [
    {
     "name": "stdout",
     "output_type": "stream",
     "text": [
      "[0]\n"
     ]
    }
   ],
   "source": [
    "import numpy as np\n",
    "print(np.argmax(pred, axis=1))"
   ]
  },
  {
   "cell_type": "code",
   "execution_count": 14,
   "id": "fc2f2f3d-197a-4937-b7e3-9e2d40b3aa1e",
   "metadata": {},
   "outputs": [
    {
     "name": "stdout",
     "output_type": "stream",
     "text": [
      "[0 0 0 0 0 0 0 0 0 0 0 0 0 0 0 0 0 0 0 0 0 0 0 0 0 0 0 0 0 0 0 0 0 0 0 0 0\n",
      " 0 0 0 0 0 0 0 0 0 1 1 1 1 1 1 1 1 1 1 1 1 1 1 1 1 1 1 1 1 1 1 1 1 1 1 2 2\n",
      " 2 2 2 2 2 2 2 2 2 2 2 2 2 2 2 2 2 2 2 2 2 2 2 2 2 2 2 2 2 2 2 2 2 2 2 2 2\n",
      " 2 2 2 2 2 2 2 2 2 2 2 2 2 2 2 2 2 2 2 2 2 2 2 2 2 2 2 2 2 2 2 2 2 2 2 2 2\n",
      " 2 2]\n"
     ]
    }
   ],
   "source": [
    "print(test_data.classes)"
   ]
  },
  {
   "cell_type": "code",
   "execution_count": 15,
   "id": "0a7bccdc-b223-4c28-8e60-6b5788d016ba",
   "metadata": {},
   "outputs": [
    {
     "name": "stdout",
     "output_type": "stream",
     "text": [
      "5/5 [==============================] - 1s 113ms/step\n"
     ]
    }
   ],
   "source": [
    "y_preds = model2.predict(test_data)\n",
    "y_pred = np.argmax(y_preds, axis=1)"
   ]
  },
  {
   "cell_type": "code",
   "execution_count": 16,
   "id": "afea94c8-662d-470f-9a97-e60686f05157",
   "metadata": {},
   "outputs": [
    {
     "data": {
      "text/html": [
       "<div>\n",
       "<style scoped>\n",
       "    .dataframe tbody tr th:only-of-type {\n",
       "        vertical-align: middle;\n",
       "    }\n",
       "\n",
       "    .dataframe tbody tr th {\n",
       "        vertical-align: top;\n",
       "    }\n",
       "\n",
       "    .dataframe thead th {\n",
       "        text-align: right;\n",
       "    }\n",
       "</style>\n",
       "<table border=\"1\" class=\"dataframe\">\n",
       "  <thead>\n",
       "    <tr style=\"text-align: right;\">\n",
       "      <th>col_0</th>\n",
       "      <th>0</th>\n",
       "      <th>1</th>\n",
       "      <th>2</th>\n",
       "    </tr>\n",
       "    <tr>\n",
       "      <th>row_0</th>\n",
       "      <th></th>\n",
       "      <th></th>\n",
       "      <th></th>\n",
       "    </tr>\n",
       "  </thead>\n",
       "  <tbody>\n",
       "    <tr>\n",
       "      <th>0</th>\n",
       "      <td>26</td>\n",
       "      <td>4</td>\n",
       "      <td>16</td>\n",
       "    </tr>\n",
       "    <tr>\n",
       "      <th>1</th>\n",
       "      <td>8</td>\n",
       "      <td>3</td>\n",
       "      <td>15</td>\n",
       "    </tr>\n",
       "    <tr>\n",
       "      <th>2</th>\n",
       "      <td>34</td>\n",
       "      <td>12</td>\n",
       "      <td>32</td>\n",
       "    </tr>\n",
       "  </tbody>\n",
       "</table>\n",
       "</div>"
      ],
      "text/plain": [
       "col_0   0   1   2\n",
       "row_0            \n",
       "0      26   4  16\n",
       "1       8   3  15\n",
       "2      34  12  32"
      ]
     },
     "execution_count": 16,
     "metadata": {},
     "output_type": "execute_result"
    }
   ],
   "source": [
    "import pandas as pd\n",
    "pd.crosstab(test_data.classes, y_pred)"
   ]
  },
  {
   "cell_type": "code",
   "execution_count": 17,
   "id": "5375b5bb-af4c-4ec6-a8e7-74d3619db897",
   "metadata": {},
   "outputs": [
    {
     "name": "stdout",
     "output_type": "stream",
     "text": [
      "5/5 [==============================] - 1s 67ms/step - loss: 0.7775 - accuracy: 0.6800\n"
     ]
    },
    {
     "data": {
      "text/plain": [
       "[0.7775223851203918, 0.6800000071525574]"
      ]
     },
     "execution_count": 17,
     "metadata": {},
     "output_type": "execute_result"
    }
   ],
   "source": [
    "model2.evaluate(test_data)"
   ]
  },
  {
   "cell_type": "code",
   "execution_count": null,
   "id": "43d2287f-9d5c-4e8c-a9a6-f4f619e75891",
   "metadata": {},
   "outputs": [],
   "source": []
  }
 ],
 "metadata": {
  "kernelspec": {
   "display_name": "Python 3 (ipykernel)",
   "language": "python",
   "name": "python3"
  },
  "language_info": {
   "codemirror_mode": {
    "name": "ipython",
    "version": 3
   },
   "file_extension": ".py",
   "mimetype": "text/x-python",
   "name": "python",
   "nbconvert_exporter": "python",
   "pygments_lexer": "ipython3",
   "version": "3.11.7"
  },
  "toc": {
   "base_numbering": 1,
   "nav_menu": {},
   "number_sections": true,
   "sideBar": true,
   "skip_h1_title": false,
   "title_cell": "Table of Contents",
   "title_sidebar": "Contents",
   "toc_cell": false,
   "toc_position": {},
   "toc_section_display": true,
   "toc_window_display": false
  }
 },
 "nbformat": 4,
 "nbformat_minor": 5
}
