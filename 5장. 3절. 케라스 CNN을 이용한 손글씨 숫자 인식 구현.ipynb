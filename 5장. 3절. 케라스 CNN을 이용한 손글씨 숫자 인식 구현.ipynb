{
 "cells": [
  {
   "cell_type": "code",
   "execution_count": 1,
   "id": "89bca2b6",
   "metadata": {},
   "outputs": [
    {
     "name": "stdout",
     "output_type": "stream",
     "text": [
      "train_X shape: (60000, 28, 28, 1)\n",
      "test_X shape: (10000, 28, 28, 1)\n"
     ]
    }
   ],
   "source": [
    "from tensorflow.keras.datasets import mnist\n",
    "(train_X, train_y), (test_X, test_y) = mnist.load_data()\n",
    "\n",
    "train_X = train_X.reshape(-1, 28, 28, 1) / 255.0 \n",
    "test_X = test_X.reshape(-1, 28, 28, 1) / 255.0 \n",
    "\n",
    "print(\"train_X shape:\", train_X.shape)\n",
    "print(\"test_X shape:\", test_X.shape)"
   ]
  },
  {
   "cell_type": "code",
   "execution_count": 2,
   "id": "f4d5a433",
   "metadata": {},
   "outputs": [],
   "source": [
    "from tensorflow.keras.models import Sequential\n",
    "from tensorflow.keras.layers import Input, Dense, Dropout, Flatten\n",
    "from tensorflow.keras.layers import Conv2D, MaxPooling2D\n",
    "\n",
    "model = Sequential()\n",
    "model.add(Input(shape=(28,28,1)))\n",
    "model.add(Conv2D(32, kernel_size=(3,3), activation=\"relu\"))\n",
    "model.add(MaxPooling2D(pool_size=(2,2)))\n",
    "model.add(Dropout(0.1))\n",
    "\n",
    "model.add(Conv2D(64, kernel_size=(3,3), activation=\"relu\"))\n",
    "model.add(MaxPooling2D()) # pool_size=(2,2)는 기본값 \n",
    "model.add(Dropout(0.25))\n",
    "\n",
    "model.add(Flatten())\n",
    "model.add(Dense(128, activation=\"relu\"))\n",
    "model.add(Dropout(0.5))\n",
    "model.add(Dense(10, activation=\"softmax\"))"
   ]
  },
  {
   "cell_type": "code",
   "execution_count": 3,
   "id": "2bf0a4bd",
   "metadata": {},
   "outputs": [],
   "source": [
    "from tensorflow.keras.callbacks import ModelCheckpoint\n",
    "filename = \"model-digits.keras\" \n",
    "checkpoint = ModelCheckpoint(filepath=filename,\n",
    "                             monitor=\"val_accuracy\", \n",
    "                             save_best_only=True, verbose=1)"
   ]
  },
  {
   "cell_type": "code",
   "execution_count": 4,
   "id": "d341d33f",
   "metadata": {},
   "outputs": [],
   "source": [
    "from tensorflow.keras.callbacks import EarlyStopping\n",
    "early_stopping = EarlyStopping(monitor=\"val_accuracy\",  \n",
    "                               patience=5, verbose=1)"
   ]
  },
  {
   "cell_type": "code",
   "execution_count": 5,
   "id": "3b579dce",
   "metadata": {},
   "outputs": [],
   "source": [
    "model.compile(loss=\"sparse_categorical_crossentropy\", \n",
    "              optimizer=\"adam\",\n",
    "              metrics=[\"accuracy\"])"
   ]
  },
  {
   "cell_type": "code",
   "execution_count": 6,
   "id": "888233e2",
   "metadata": {},
   "outputs": [
    {
     "name": "stdout",
     "output_type": "stream",
     "text": [
      "Epoch 1/10\n",
      "\u001b[1m468/469\u001b[0m \u001b[32m━━━━━━━━━━━━━━━━━━━\u001b[0m\u001b[37m━\u001b[0m \u001b[1m0s\u001b[0m 25ms/step - accuracy: 0.7909 - loss: 0.6499\n",
      "Epoch 1: val_accuracy improved from -inf to 0.97880, saving model to model-digits.keras\n",
      "\u001b[1m469/469\u001b[0m \u001b[32m━━━━━━━━━━━━━━━━━━━━\u001b[0m\u001b[37m\u001b[0m \u001b[1m15s\u001b[0m 27ms/step - accuracy: 0.7914 - loss: 0.6485 - val_accuracy: 0.9788 - val_loss: 0.0633\n",
      "Epoch 2/10\n",
      "\u001b[1m467/469\u001b[0m \u001b[32m━━━━━━━━━━━━━━━━━━━\u001b[0m\u001b[37m━\u001b[0m \u001b[1m0s\u001b[0m 23ms/step - accuracy: 0.9648 - loss: 0.1142\n",
      "Epoch 2: val_accuracy improved from 0.97880 to 0.98820, saving model to model-digits.keras\n",
      "\u001b[1m469/469\u001b[0m \u001b[32m━━━━━━━━━━━━━━━━━━━━\u001b[0m\u001b[37m\u001b[0m \u001b[1m11s\u001b[0m 24ms/step - accuracy: 0.9648 - loss: 0.1142 - val_accuracy: 0.9882 - val_loss: 0.0371\n",
      "Epoch 3/10\n",
      "\u001b[1m467/469\u001b[0m \u001b[32m━━━━━━━━━━━━━━━━━━━\u001b[0m\u001b[37m━\u001b[0m \u001b[1m0s\u001b[0m 23ms/step - accuracy: 0.9762 - loss: 0.0791\n",
      "Epoch 3: val_accuracy improved from 0.98820 to 0.99020, saving model to model-digits.keras\n",
      "\u001b[1m469/469\u001b[0m \u001b[32m━━━━━━━━━━━━━━━━━━━━\u001b[0m\u001b[37m\u001b[0m \u001b[1m12s\u001b[0m 24ms/step - accuracy: 0.9762 - loss: 0.0791 - val_accuracy: 0.9902 - val_loss: 0.0296\n",
      "Epoch 4/10\n",
      "\u001b[1m467/469\u001b[0m \u001b[32m━━━━━━━━━━━━━━━━━━━\u001b[0m\u001b[37m━\u001b[0m \u001b[1m0s\u001b[0m 24ms/step - accuracy: 0.9808 - loss: 0.0646\n",
      "Epoch 4: val_accuracy did not improve from 0.99020\n",
      "\u001b[1m469/469\u001b[0m \u001b[32m━━━━━━━━━━━━━━━━━━━━\u001b[0m\u001b[37m\u001b[0m \u001b[1m12s\u001b[0m 25ms/step - accuracy: 0.9808 - loss: 0.0646 - val_accuracy: 0.9889 - val_loss: 0.0347\n",
      "Epoch 5/10\n",
      "\u001b[1m468/469\u001b[0m \u001b[32m━━━━━━━━━━━━━━━━━━━\u001b[0m\u001b[37m━\u001b[0m \u001b[1m0s\u001b[0m 22ms/step - accuracy: 0.9834 - loss: 0.0554\n",
      "Epoch 5: val_accuracy improved from 0.99020 to 0.99110, saving model to model-digits.keras\n",
      "\u001b[1m469/469\u001b[0m \u001b[32m━━━━━━━━━━━━━━━━━━━━\u001b[0m\u001b[37m\u001b[0m \u001b[1m11s\u001b[0m 23ms/step - accuracy: 0.9834 - loss: 0.0554 - val_accuracy: 0.9911 - val_loss: 0.0261\n",
      "Epoch 6/10\n",
      "\u001b[1m468/469\u001b[0m \u001b[32m━━━━━━━━━━━━━━━━━━━\u001b[0m\u001b[37m━\u001b[0m \u001b[1m0s\u001b[0m 24ms/step - accuracy: 0.9857 - loss: 0.0498\n",
      "Epoch 6: val_accuracy improved from 0.99110 to 0.99200, saving model to model-digits.keras\n",
      "\u001b[1m469/469\u001b[0m \u001b[32m━━━━━━━━━━━━━━━━━━━━\u001b[0m\u001b[37m\u001b[0m \u001b[1m12s\u001b[0m 25ms/step - accuracy: 0.9857 - loss: 0.0498 - val_accuracy: 0.9920 - val_loss: 0.0226\n",
      "Epoch 7/10\n",
      "\u001b[1m469/469\u001b[0m \u001b[32m━━━━━━━━━━━━━━━━━━━━\u001b[0m\u001b[37m\u001b[0m \u001b[1m0s\u001b[0m 25ms/step - accuracy: 0.9863 - loss: 0.0461\n",
      "Epoch 7: val_accuracy did not improve from 0.99200\n",
      "\u001b[1m469/469\u001b[0m \u001b[32m━━━━━━━━━━━━━━━━━━━━\u001b[0m\u001b[37m\u001b[0m \u001b[1m12s\u001b[0m 26ms/step - accuracy: 0.9863 - loss: 0.0461 - val_accuracy: 0.9911 - val_loss: 0.0250\n",
      "Epoch 8/10\n",
      "\u001b[1m469/469\u001b[0m \u001b[32m━━━━━━━━━━━━━━━━━━━━\u001b[0m\u001b[37m\u001b[0m \u001b[1m0s\u001b[0m 23ms/step - accuracy: 0.9877 - loss: 0.0394\n",
      "Epoch 8: val_accuracy did not improve from 0.99200\n",
      "\u001b[1m469/469\u001b[0m \u001b[32m━━━━━━━━━━━━━━━━━━━━\u001b[0m\u001b[37m\u001b[0m \u001b[1m11s\u001b[0m 24ms/step - accuracy: 0.9877 - loss: 0.0394 - val_accuracy: 0.9920 - val_loss: 0.0213\n",
      "Epoch 9/10\n",
      "\u001b[1m469/469\u001b[0m \u001b[32m━━━━━━━━━━━━━━━━━━━━\u001b[0m\u001b[37m\u001b[0m \u001b[1m0s\u001b[0m 22ms/step - accuracy: 0.9890 - loss: 0.0368\n",
      "Epoch 9: val_accuracy improved from 0.99200 to 0.99310, saving model to model-digits.keras\n",
      "\u001b[1m469/469\u001b[0m \u001b[32m━━━━━━━━━━━━━━━━━━━━\u001b[0m\u001b[37m\u001b[0m \u001b[1m11s\u001b[0m 24ms/step - accuracy: 0.9890 - loss: 0.0368 - val_accuracy: 0.9931 - val_loss: 0.0193\n",
      "Epoch 10/10\n",
      "\u001b[1m467/469\u001b[0m \u001b[32m━━━━━━━━━━━━━━━━━━━\u001b[0m\u001b[37m━\u001b[0m \u001b[1m0s\u001b[0m 24ms/step - accuracy: 0.9883 - loss: 0.0370\n",
      "Epoch 10: val_accuracy did not improve from 0.99310\n",
      "\u001b[1m469/469\u001b[0m \u001b[32m━━━━━━━━━━━━━━━━━━━━\u001b[0m\u001b[37m\u001b[0m \u001b[1m12s\u001b[0m 25ms/step - accuracy: 0.9883 - loss: 0.0370 - val_accuracy: 0.9926 - val_loss: 0.0207\n"
     ]
    },
    {
     "data": {
      "text/plain": [
       "<keras.src.callbacks.history.History at 0x2611c130c50>"
      ]
     },
     "execution_count": 6,
     "metadata": {},
     "output_type": "execute_result"
    }
   ],
   "source": [
    "model.fit(train_X, train_y, validation_data=(test_X, test_y),\n",
    "          callbacks=[checkpoint, early_stopping], \n",
    "          batch_size=128, epochs=10)"
   ]
  },
  {
   "cell_type": "code",
   "execution_count": 7,
   "id": "3790bf49",
   "metadata": {
    "scrolled": true
   },
   "outputs": [
    {
     "name": "stdout",
     "output_type": "stream",
     "text": [
      "\u001b[1m313/313\u001b[0m \u001b[32m━━━━━━━━━━━━━━━━━━━━\u001b[0m\u001b[37m\u001b[0m \u001b[1m1s\u001b[0m 3ms/step - accuracy: 0.9901 - loss: 0.0260\n"
     ]
    },
    {
     "data": {
      "text/plain": [
       "[0.020656615495681763, 0.9926000237464905]"
      ]
     },
     "execution_count": 7,
     "metadata": {},
     "output_type": "execute_result"
    }
   ],
   "source": [
    "model.evaluate(test_X, test_y)"
   ]
  },
  {
   "cell_type": "code",
   "execution_count": 8,
   "id": "eb3f9775",
   "metadata": {},
   "outputs": [],
   "source": [
    "from tensorflow.keras.models import load_model\n",
    "model = load_model(\"model-digits.keras\")"
   ]
  },
  {
   "cell_type": "code",
   "execution_count": 9,
   "id": "67c933c5",
   "metadata": {},
   "outputs": [
    {
     "name": "stdout",
     "output_type": "stream",
     "text": [
      "Camera not opened\n"
     ]
    }
   ],
   "source": [
    "import cv2\n",
    "import numpy as np\n",
    "\n",
    "cap = cv2.VideoCapture(0)\n",
    "\n",
    "if cap.isOpened():\n",
    "    while True:\n",
    "        ret, img = cap.read()\n",
    "        if not ret: break # 반환되는 프레임이 없으면 종료\n",
    "            \n",
    "        g_img = cv2.cvtColor(img, cv2.COLOR_BGR2GRAY)\n",
    "        _, bin_img = cv2.threshold(g_img, 110, 255, cv2.THRESH_BINARY_INV)\n",
    "        contours, hierarchy = cv2.findContours(bin_img,\n",
    "                                               cv2.RETR_EXTERNAL, cv2.CHAIN_APPROX_SIMPLE)\n",
    "\n",
    "        for contour in contours:\n",
    "            (x,y), radius = cv2.minEnclosingCircle(contour)\n",
    "            if radius < 5 : continue\n",
    "            xs, xe = int(x-radius), int(x+radius)\n",
    "            ys, ye = int(y-radius), int(y+radius)\n",
    "            cv2.rectangle(bin_img, (xs,ys), (xe,ye), (200,0,0), 1)\n",
    "            roi = bin_img[ys:ye, xs:xe]\n",
    "            if roi.shape[0] * roi.shape[1] == 0:\n",
    "                continue # ROI 배열의 행 또는 열의 크기가 0이면 resize시 예외 발생\n",
    "            roi = cv2.resize(roi, dsize=(24,24))\n",
    "            A = np.zeros((28,28))\n",
    "            A[2:-2,2:-2] = roi\n",
    "            A = A.reshape(-1,28,28,1)\n",
    "            num = np.argmax(model.predict(A, verbose=0))\n",
    "            cv2.putText(bin_img, str(num), (xs, ys), cv2.FONT_HERSHEY_PLAIN, 2, (200,0,0))\n",
    "        cv2.imshow(\"Camera\", bin_img)\n",
    "        if cv2.waitKey(1) == 27: break # ESC\n",
    "else :\n",
    "    print(\"Camera not opened\")\n",
    "    \n",
    "cap.release()\n",
    "cv2.destroyAllWindows()"
   ]
  },
  {
   "cell_type": "code",
   "execution_count": null,
   "id": "9e30cda8",
   "metadata": {},
   "outputs": [],
   "source": []
  }
 ],
 "metadata": {
  "kernelspec": {
   "display_name": "Python 3 (ipykernel)",
   "language": "python",
   "name": "python3"
  },
  "language_info": {
   "codemirror_mode": {
    "name": "ipython",
    "version": 3
   },
   "file_extension": ".py",
   "mimetype": "text/x-python",
   "name": "python",
   "nbconvert_exporter": "python",
   "pygments_lexer": "ipython3",
   "version": "3.11.7"
  },
  "toc": {
   "base_numbering": 1,
   "nav_menu": {},
   "number_sections": true,
   "sideBar": true,
   "skip_h1_title": false,
   "title_cell": "Table of Contents",
   "title_sidebar": "Contents",
   "toc_cell": false,
   "toc_position": {},
   "toc_section_display": true,
   "toc_window_display": false
  },
  "varInspector": {
   "cols": {
    "lenName": 16,
    "lenType": 16,
    "lenVar": 40
   },
   "kernels_config": {
    "python": {
     "delete_cmd_postfix": "",
     "delete_cmd_prefix": "del ",
     "library": "var_list.py",
     "varRefreshCmd": "print(var_dic_list())"
    },
    "r": {
     "delete_cmd_postfix": ") ",
     "delete_cmd_prefix": "rm(",
     "library": "var_list.r",
     "varRefreshCmd": "cat(var_dic_list()) "
    }
   },
   "types_to_exclude": [
    "module",
    "function",
    "builtin_function_or_method",
    "instance",
    "_Feature"
   ],
   "window_display": false
  }
 },
 "nbformat": 4,
 "nbformat_minor": 5
}
